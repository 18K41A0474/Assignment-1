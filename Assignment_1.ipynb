{
  "nbformat": 4,
  "nbformat_minor": 0,
  "metadata": {
    "colab": {
      "name": "Assignment-1.ipynb",
      "provenance": [],
      "authorship_tag": "ABX9TyO5/wboejWkUa2hDqh5jjxd",
      "include_colab_link": true
    },
    "kernelspec": {
      "name": "python3",
      "display_name": "Python 3"
    }
  },
  "cells": [
    {
      "cell_type": "markdown",
      "metadata": {
        "id": "view-in-github",
        "colab_type": "text"
      },
      "source": [
        "<a href=\"https://colab.research.google.com/github/18K41A0474/Assignment-1/blob/master/Assignment_1.ipynb\" target=\"_parent\"><img src=\"https://colab.research.google.com/assets/colab-badge.svg\" alt=\"Open In Colab\"/></a>"
      ]
    },
    {
      "cell_type": "code",
      "metadata": {
        "id": "usaCJlV4PkfB",
        "colab_type": "code",
        "colab": {
          "base_uri": "https://localhost:8080/",
          "height": 51
        },
        "outputId": "e682fb21-bea6-4595-b7f2-3201108f6db7"
      },
      "source": [
        "# problem-1\n",
        "year=int(input(\"enter ur yr of birth\"))\n",
        "if year%12==0:\n",
        "  print(\"monkey\")\n",
        "elif year%12==1:\n",
        "  print(\"rooster\")\n",
        "elif year%12==2:\n",
        "  print(\"dog\")\n",
        "elif year%12==3:\n",
        "  print(\"pig\")\n",
        "elif year%12==4:\n",
        "  print(\"rat\")\n",
        "elif year%12==5:\n",
        "  print(\"ox\")\n",
        "elif year%12==6:\n",
        "  print(\"tiger\")\n",
        "elif year%12==7:\n",
        "  print(\"rabit\")\n",
        "elif year%12==8:\n",
        "  print(\"dragon\")\n",
        "elif year%12==9:\n",
        "  print(\"snake\")\n",
        "elif year%12==10:\n",
        "  print(\"horse\")\n",
        "else:\n",
        "  print(\"sheep\")\n"
      ],
      "execution_count": null,
      "outputs": [
        {
          "output_type": "stream",
          "text": [
            "enter ur yr of birth2001\n",
            "snake\n"
          ],
          "name": "stdout"
        }
      ]
    },
    {
      "cell_type": "code",
      "metadata": {
        "id": "LQhzsXYUQfwg",
        "colab_type": "code",
        "colab": {
          "base_uri": "https://localhost:8080/",
          "height": 68
        },
        "outputId": "6ef4a761-ae35-41f5-8b95-b8ce5b6fa77b"
      },
      "source": [
        "#problem-2\n",
        "dist=int(input(\"enter distance travelled=\"))\n",
        "wt=int(input(\"enter weight=\"))\n",
        "if dist>=500:\n",
        "  if wt>=100:\n",
        "    print(\"amount to be charged=\",5*dist)\n",
        "  elif wt>=10 and wt<100:\n",
        "    print(\"amount to be charged=\",6*dist)\n",
        "  elif wt<10:\n",
        "    print(\"amount to be charged=\",7*dist)\n",
        "else:\n",
        "  if wt>=100:\n",
        "    print(\"amount to be charged=\",8*dist)\n",
        "  elif wt<100:\n",
        "    print(\"amount to be charged=\",5*dist)"
      ],
      "execution_count": null,
      "outputs": [
        {
          "output_type": "stream",
          "text": [
            "enter distance travelled=520\n",
            "enter weight=50\n",
            "amount to be charged= 3120\n"
          ],
          "name": "stdout"
        }
      ]
    },
    {
      "cell_type": "code",
      "metadata": {
        "id": "fmPfVb1hQsvX",
        "colab_type": "code",
        "colab": {
          "base_uri": "https://localhost:8080/",
          "height": 68
        },
        "outputId": "9cfa1645-fbf4-46d6-cfb4-acb1bcf39d01"
      },
      "source": [
        "#problem-3\n",
        "# The Entertainment Paradise\n",
        "#A theater in Delhi wants to develop a computerized Booking System. The theater offers\n",
        "#different types of seats. The Ticket rates are- Stalls- Rs. 625/-, Circle- Rs.750/-, Upper\n",
        "#Class- Rs.850/- and Box- Rs.1000/-. A discount is given 10% of total amount if tickets\n",
        "#are purchased on Cash. In case of credit card holders 5% discount is given.\n",
        "#Input: Type of Seat: Circle\n",
        "#Payment mode: cash\n",
        "#Output: Cost of ticket: 675\n",
        "#program:\n",
        "tictype=input(\"enter ticket type:\")\n",
        "mode=input(\"enter ur payment mode:\")\n",
        "if mode=='Cash':\n",
        "  if tictype=='Stalls':\n",
        "    print(\"total amount=\",625-(625*10/100))\n",
        "  elif tictype=='Circle':\n",
        "    print(\"total amount=\",750-(750*10/100))\n",
        "  elif tictype=='Upper class':\n",
        "    print(\"total amount=\",850-(850*10/100))\n",
        "  else:\n",
        "    print(\"total amount=\",1000-(1000*10/100))\n",
        "else:\n",
        "   if tictype=='Stalls':\n",
        "    print(\"total amount=\",625-(625*5/100))\n",
        "   elif tictype=='Circle':\n",
        "    print(\"total amount=\",750-(750*5/100))\n",
        "   elif tictype=='Upper class':\n",
        "    print(\"total amount=\",850-(850*5/100))\n",
        "   else:\n",
        "    print(\"total amount=\",1000-(1000*5/100))\n",
        "  \n"
      ],
      "execution_count": null,
      "outputs": [
        {
          "output_type": "stream",
          "text": [
            "enter ticket type:Circle \n",
            "enter ur payment mode:cash\n",
            "total amount= 950.0\n"
          ],
          "name": "stdout"
        }
      ]
    },
    {
      "cell_type": "code",
      "metadata": {
        "id": "jCNosUmoRLho",
        "colab_type": "code",
        "colab": {
          "base_uri": "https://localhost:8080/",
          "height": 85
        },
        "outputId": "508d6b3b-1393-4bcd-f93c-19255d07934b"
      },
      "source": [
        "#problem-4\n",
        "#4.\tDevelop a program that calculates the energy needed to heat water from an initial temperature to a final temperature. Your program should prompt the user to enter the amount of water in kilograms and the initial and final temperatures of the water. The formula to compute the energy is \n",
        "#Q = M * (finalTemperature – initialTemperature) * 4184.\n",
        "#where M is the weight of water in kilograms, temperatures are in degrees Celsius,  and energy Q is measured in joules. \n",
        "#program:\n",
        "wt=int(input(\"enter ur amount of water in kg=\"))\n",
        "itemp=int(input(\"enter ur initial temperature=\"))\n",
        "ftemp=int(input(\"enter ur final temperature=\"))\n",
        "print(\"energy=\",wt*(ftemp-itemp)*4184)"
      ],
      "execution_count": null,
      "outputs": [
        {
          "output_type": "stream",
          "text": [
            "enter ur amount of water in kg=5\n",
            "enter ur initial temperature=30\n",
            "enter ur final temperature=75\n",
            "energy= 941400\n"
          ],
          "name": "stdout"
        }
      ]
    },
    {
      "cell_type": "code",
      "metadata": {
        "id": "JznRB64MRYGU",
        "colab_type": "code",
        "colab": {
          "base_uri": "https://localhost:8080/",
          "height": 51
        },
        "outputId": "254f4fec-75a6-4672-d799-72bb02bc7d41"
      },
      "source": [
        "#problem-5\n",
        "#Develop a program that prompts user to enter month and  print \n",
        "#a.\t“Winter ” -   December ,January and February\n",
        "#b.\t“Spring”  -   March ,April and May\n",
        "#c.\t“Summer”  --- June ,July, August\n",
        "#d.\t“Autumn ”  -- September ,October, November\n",
        "#program:\n",
        "month=input(\"enter the month:\")\n",
        "if month=='December' or month=='January' or month=='February':\n",
        "  print(\"Winter\")\n",
        "if month=='March' or month=='April' or month=='May':\n",
        "  print(\"Spring\")\n",
        "if month=='June' or month=='July' or month=='August':\n",
        "  print(\"Summer\")\n",
        "if month=='September' or month=='October' or month=='November':\n",
        "  print(\"Autumn\")"
      ],
      "execution_count": null,
      "outputs": [
        {
          "output_type": "stream",
          "text": [
            "enter the month:November\n",
            "Autumn\n"
          ],
          "name": "stdout"
        }
      ]
    },
    {
      "cell_type": "code",
      "metadata": {
        "id": "AwFs1Q2iRker",
        "colab_type": "code",
        "colab": {
          "base_uri": "https://localhost:8080/",
          "height": 102
        },
        "outputId": "b30c71d6-5aaf-4c9e-ccce-c82e0dffcffd"
      },
      "source": [
        "#problem-6\n",
        "\n",
        "wt=float(input(\"enter ur weigth in kilograms=\"))\n",
        "ht=float(input(\"enter ur height in meters=\"))\n",
        "age=int(input(\"enter ur age=\"))\n",
        "W=wt/0.45359237\n",
        "H=ht/0.0254\n",
        "BMI=W*703/H**2\n",
        "print(\"Body Mass Index=\",BMI)\n",
        "if age>=20:\n",
        "  if BMI<18.5:\n",
        "    print(\"Under Weight\")\n",
        "  elif 18.5<=BMI<25.0:\n",
        "    print(\"Normal\")\n",
        "  elif 25.0<=BMI<30.0:\n",
        "    print(\"Over Weight\")\n",
        "  else:\n",
        "    print(\"Obese\")\n",
        "else:\n",
        "    print(\"Under 20\")"
      ],
      "execution_count": null,
      "outputs": [
        {
          "output_type": "stream",
          "text": [
            "enter ur weigth in kilograms=60.3\n",
            "enter ur height in meters=1.6002\n",
            "enter ur age=20\n",
            "Body Mass Index= 23.54646941308371\n",
            "Normal\n"
          ],
          "name": "stdout"
        }
      ]
    },
    {
      "cell_type": "code",
      "metadata": {
        "id": "iqHtmGokR4t-",
        "colab_type": "code",
        "colab": {
          "base_uri": "https://localhost:8080/",
          "height": 51
        },
        "outputId": "74bb5722-0240-4c0b-8415-03322a59fb06"
      },
      "source": [
        "#problem-7\n",
        "#Write a program that reads an integer between 100 and 1000 and adds all the digits in the integer \t(\tex: input 745 \t# output =16\t(7+4+5)\t)\n",
        "#program:\n",
        "num=int(input(\"enter ur number=\"))\n",
        "rem=0\n",
        "if num>100 and num<1000:\n",
        "  while num!=0:\n",
        "    temp=num//100\n",
        "    dig=num%10\n",
        "    rem+=dig\n",
        "    num//=10\n",
        "  print(\"sum=\",rem)\n",
        "else:\n",
        "  print(\"invalid input\")"
      ],
      "execution_count": null,
      "outputs": [
        {
          "output_type": "stream",
          "text": [
            "enter ur number=745\n",
            "sum= 16\n"
          ],
          "name": "stdout"
        }
      ]
    },
    {
      "cell_type": "code",
      "metadata": {
        "id": "qxeGXT8FSE3N",
        "colab_type": "code",
        "colab": {
          "base_uri": "https://localhost:8080/",
          "height": 1000
        },
        "outputId": "80519b4c-6aa1-4e1f-c3bb-8ed280e97d40"
      },
      "source": [
        "#problem-8\n",
        "#Print all palindrome numbers between 1 to 1000.\n",
        "#program:\n",
        "max=int(input(\"enter ur maximum value\"))\n",
        "for num in range(1,max+1):\n",
        "  temp=num\n",
        "  rev=0\n",
        "  while(temp>0):\n",
        "    rem=temp%10\n",
        "    rev=(rev*10)+rem\n",
        "    temp=temp//10\n",
        "  if(num==rev):\n",
        "    print(\"palindrome numbers are=\",num)"
      ],
      "execution_count": null,
      "outputs": [
        {
          "output_type": "stream",
          "text": [
            "enter ur maximum value1000\n",
            "palindrome numbers are= 1\n",
            "palindrome numbers are= 2\n",
            "palindrome numbers are= 3\n",
            "palindrome numbers are= 4\n",
            "palindrome numbers are= 5\n",
            "palindrome numbers are= 6\n",
            "palindrome numbers are= 7\n",
            "palindrome numbers are= 8\n",
            "palindrome numbers are= 9\n",
            "palindrome numbers are= 11\n",
            "palindrome numbers are= 22\n",
            "palindrome numbers are= 33\n",
            "palindrome numbers are= 44\n",
            "palindrome numbers are= 55\n",
            "palindrome numbers are= 66\n",
            "palindrome numbers are= 77\n",
            "palindrome numbers are= 88\n",
            "palindrome numbers are= 99\n",
            "palindrome numbers are= 101\n",
            "palindrome numbers are= 111\n",
            "palindrome numbers are= 121\n",
            "palindrome numbers are= 131\n",
            "palindrome numbers are= 141\n",
            "palindrome numbers are= 151\n",
            "palindrome numbers are= 161\n",
            "palindrome numbers are= 171\n",
            "palindrome numbers are= 181\n",
            "palindrome numbers are= 191\n",
            "palindrome numbers are= 202\n",
            "palindrome numbers are= 212\n",
            "palindrome numbers are= 222\n",
            "palindrome numbers are= 232\n",
            "palindrome numbers are= 242\n",
            "palindrome numbers are= 252\n",
            "palindrome numbers are= 262\n",
            "palindrome numbers are= 272\n",
            "palindrome numbers are= 282\n",
            "palindrome numbers are= 292\n",
            "palindrome numbers are= 303\n",
            "palindrome numbers are= 313\n",
            "palindrome numbers are= 323\n",
            "palindrome numbers are= 333\n",
            "palindrome numbers are= 343\n",
            "palindrome numbers are= 353\n",
            "palindrome numbers are= 363\n",
            "palindrome numbers are= 373\n",
            "palindrome numbers are= 383\n",
            "palindrome numbers are= 393\n",
            "palindrome numbers are= 404\n",
            "palindrome numbers are= 414\n",
            "palindrome numbers are= 424\n",
            "palindrome numbers are= 434\n",
            "palindrome numbers are= 444\n",
            "palindrome numbers are= 454\n",
            "palindrome numbers are= 464\n",
            "palindrome numbers are= 474\n",
            "palindrome numbers are= 484\n",
            "palindrome numbers are= 494\n",
            "palindrome numbers are= 505\n",
            "palindrome numbers are= 515\n",
            "palindrome numbers are= 525\n",
            "palindrome numbers are= 535\n",
            "palindrome numbers are= 545\n",
            "palindrome numbers are= 555\n",
            "palindrome numbers are= 565\n",
            "palindrome numbers are= 575\n",
            "palindrome numbers are= 585\n",
            "palindrome numbers are= 595\n",
            "palindrome numbers are= 606\n",
            "palindrome numbers are= 616\n",
            "palindrome numbers are= 626\n",
            "palindrome numbers are= 636\n",
            "palindrome numbers are= 646\n",
            "palindrome numbers are= 656\n",
            "palindrome numbers are= 666\n",
            "palindrome numbers are= 676\n",
            "palindrome numbers are= 686\n",
            "palindrome numbers are= 696\n",
            "palindrome numbers are= 707\n",
            "palindrome numbers are= 717\n",
            "palindrome numbers are= 727\n",
            "palindrome numbers are= 737\n",
            "palindrome numbers are= 747\n",
            "palindrome numbers are= 757\n",
            "palindrome numbers are= 767\n",
            "palindrome numbers are= 777\n",
            "palindrome numbers are= 787\n",
            "palindrome numbers are= 797\n",
            "palindrome numbers are= 808\n",
            "palindrome numbers are= 818\n",
            "palindrome numbers are= 828\n",
            "palindrome numbers are= 838\n",
            "palindrome numbers are= 848\n",
            "palindrome numbers are= 858\n",
            "palindrome numbers are= 868\n",
            "palindrome numbers are= 878\n",
            "palindrome numbers are= 888\n",
            "palindrome numbers are= 898\n",
            "palindrome numbers are= 909\n",
            "palindrome numbers are= 919\n",
            "palindrome numbers are= 929\n",
            "palindrome numbers are= 939\n",
            "palindrome numbers are= 949\n",
            "palindrome numbers are= 959\n",
            "palindrome numbers are= 969\n",
            "palindrome numbers are= 979\n",
            "palindrome numbers are= 989\n",
            "palindrome numbers are= 999\n"
          ],
          "name": "stdout"
        }
      ]
    },
    {
      "cell_type": "code",
      "metadata": {
        "id": "Y9ynWRnLTPVO",
        "colab_type": "code",
        "colab": {
          "base_uri": "https://localhost:8080/",
          "height": 119
        },
        "outputId": "499c2c03-85d9-4083-d160-c63839b69b85"
      },
      "source": [
        "#problem-9\n",
        "#Print all Armstrong numbers between 1 to 1000\n",
        "#program:\n",
        "max=int(input(\"enter ur maximum value\"))\n",
        "for num in range(1,max+1):\n",
        "  temp=num\n",
        "  sum=0\n",
        "  while(temp>0):\n",
        "    rem=temp%10\n",
        "    sum+=rem**3\n",
        "    temp=temp//10\n",
        "  if(num==sum):\n",
        "    print(\"armstrong numbers are=\",num)"
      ],
      "execution_count": null,
      "outputs": [
        {
          "output_type": "stream",
          "text": [
            "enter ur maximum value1000\n",
            "armstrong numbers are= 1\n",
            "armstrong numbers are= 153\n",
            "armstrong numbers are= 370\n",
            "armstrong numbers are= 371\n",
            "armstrong numbers are= 407\n"
          ],
          "name": "stdout"
        }
      ]
    },
    {
      "cell_type": "code",
      "metadata": {
        "id": "kyiRdMnKTfGw",
        "colab_type": "code",
        "colab": {
          "base_uri": "https://localhost:8080/",
          "height": 1000
        },
        "outputId": "9f43638b-8e51-49be-fcc9-85ecf8a91e9c"
      },
      "source": [
        "#problem-10\n",
        "#Write a Java program which iterates the integers from 1 to 100. For multiples of three print \"Fizz\" instead of the number and print \"Buzz\" for the multiples of five. When number is divided by both three and five, print \"fizz buzz\".\n",
        "#program:\n",
        "max=int(input(\"enter ur maximum value\"))\n",
        "for num in range(1,max+1):\n",
        "  if num%3==0 and num%5==0:\n",
        "    print(\"Fizz Buzz\")\n",
        "  elif num%3==0:\n",
        "    print(\"Fizz\")\n",
        "  elif num%5==0:\n",
        "    print(\"Buzz\")\n",
        "  else:\n",
        "    print(num)"
      ],
      "execution_count": null,
      "outputs": [
        {
          "output_type": "stream",
          "text": [
            "enter ur maximum value100\n",
            "1\n",
            "2\n",
            "Fizz\n",
            "4\n",
            "Buzz\n",
            "Fizz\n",
            "7\n",
            "8\n",
            "Fizz\n",
            "Buzz\n",
            "11\n",
            "Fizz\n",
            "13\n",
            "14\n",
            "Fizz Buzz\n",
            "16\n",
            "17\n",
            "Fizz\n",
            "19\n",
            "Buzz\n",
            "Fizz\n",
            "22\n",
            "23\n",
            "Fizz\n",
            "Buzz\n",
            "26\n",
            "Fizz\n",
            "28\n",
            "29\n",
            "Fizz Buzz\n",
            "31\n",
            "32\n",
            "Fizz\n",
            "34\n",
            "Buzz\n",
            "Fizz\n",
            "37\n",
            "38\n",
            "Fizz\n",
            "Buzz\n",
            "41\n",
            "Fizz\n",
            "43\n",
            "44\n",
            "Fizz Buzz\n",
            "46\n",
            "47\n",
            "Fizz\n",
            "49\n",
            "Buzz\n",
            "Fizz\n",
            "52\n",
            "53\n",
            "Fizz\n",
            "Buzz\n",
            "56\n",
            "Fizz\n",
            "58\n",
            "59\n",
            "Fizz Buzz\n",
            "61\n",
            "62\n",
            "Fizz\n",
            "64\n",
            "Buzz\n",
            "Fizz\n",
            "67\n",
            "68\n",
            "Fizz\n",
            "Buzz\n",
            "71\n",
            "Fizz\n",
            "73\n",
            "74\n",
            "Fizz Buzz\n",
            "76\n",
            "77\n",
            "Fizz\n",
            "79\n",
            "Buzz\n",
            "Fizz\n",
            "82\n",
            "83\n",
            "Fizz\n",
            "Buzz\n",
            "86\n",
            "Fizz\n",
            "88\n",
            "89\n",
            "Fizz Buzz\n",
            "91\n",
            "92\n",
            "Fizz\n",
            "94\n",
            "Buzz\n",
            "Fizz\n",
            "97\n",
            "98\n",
            "Fizz\n",
            "Buzz\n"
          ],
          "name": "stdout"
        }
      ]
    },
    {
      "cell_type": "code",
      "metadata": {
        "id": "BYnx9QmRTqaA",
        "colab_type": "code",
        "colab": {
          "base_uri": "https://localhost:8080/",
          "height": 1000
        },
        "outputId": "53c5fca9-a581-4f64-ab71-e9e2a88cfd5a"
      },
      "source": [
        "#problem-11\n",
        "#Spider Problem: A spider present at the bottom of the well of height H, needs to get out of it, using the slippery wall of the well. It decides to climb up the well; it goes up U meters and slips down D meters in one single step. So, in each step it covers (U-D) meters, and if the spider gets out of the well by covering U meters in the last step it doesn’t a slip back. For example, if the spider climbs up 5 meters and slips down by 3 meters in a single step, it covers (U - D) m in each step and 96 m in 48 steps, but in the 49th step it climbs up 5 m and reaches out of the well and it will not slip down and the step is counted as one step.     \n",
        "#Input: Each test case will contain 3 integers ’H’ height of the well, next ’U’ meters climbs up in each step, and the last ’D’ meters slips down in each step.\n",
        "#Output:  The number of steps 'N' required to get out of the well.\n",
        "#Example 1:\n",
        " \t#Input:\t\t\t\t\t\tOuput \n",
        "\t#200 50 1\t\t\t\t\t    5\n",
        "\t#Example 2:\n",
        " \t#Input:\t\t\t\t\t\tOutput\n",
        "\t#500 20 15\t\t\t\t\t   98\n",
        "#program:\n",
        "ht=int(input(\"enter height=\"))\n",
        "u=int(input(\"how many meters spider should climb up=\"))\n",
        "d=int(input(\"how many meters spider should slip down=\"))\n",
        "dist=0\n",
        "step=0\n",
        "while dist<=(ht-u):\n",
        "  dist=dist+(u-d)\n",
        "  step+=1\n",
        "  print(step+1)"
      ],
      "execution_count": null,
      "outputs": [
        {
          "output_type": "stream",
          "text": [
            "enter height=500\n",
            "how many meters spider should climb up=20\n",
            "how many meters spider should slip down=15\n",
            "2\n",
            "3\n",
            "4\n",
            "5\n",
            "6\n",
            "7\n",
            "8\n",
            "9\n",
            "10\n",
            "11\n",
            "12\n",
            "13\n",
            "14\n",
            "15\n",
            "16\n",
            "17\n",
            "18\n",
            "19\n",
            "20\n",
            "21\n",
            "22\n",
            "23\n",
            "24\n",
            "25\n",
            "26\n",
            "27\n",
            "28\n",
            "29\n",
            "30\n",
            "31\n",
            "32\n",
            "33\n",
            "34\n",
            "35\n",
            "36\n",
            "37\n",
            "38\n",
            "39\n",
            "40\n",
            "41\n",
            "42\n",
            "43\n",
            "44\n",
            "45\n",
            "46\n",
            "47\n",
            "48\n",
            "49\n",
            "50\n",
            "51\n",
            "52\n",
            "53\n",
            "54\n",
            "55\n",
            "56\n",
            "57\n",
            "58\n",
            "59\n",
            "60\n",
            "61\n",
            "62\n",
            "63\n",
            "64\n",
            "65\n",
            "66\n",
            "67\n",
            "68\n",
            "69\n",
            "70\n",
            "71\n",
            "72\n",
            "73\n",
            "74\n",
            "75\n",
            "76\n",
            "77\n",
            "78\n",
            "79\n",
            "80\n",
            "81\n",
            "82\n",
            "83\n",
            "84\n",
            "85\n",
            "86\n",
            "87\n",
            "88\n",
            "89\n",
            "90\n",
            "91\n",
            "92\n",
            "93\n",
            "94\n",
            "95\n",
            "96\n",
            "97\n",
            "98\n"
          ],
          "name": "stdout"
        }
      ]
    }
  ]
}